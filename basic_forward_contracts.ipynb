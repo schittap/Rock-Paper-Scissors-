{
  "nbformat": 4,
  "nbformat_minor": 0,
  "metadata": {
    "colab": {
      "provenance": [],
      "authorship_tag": "ABX9TyMxOPuxPHBGK4GVaioPBsoM",
      "include_colab_link": true
    },
    "kernelspec": {
      "name": "python3",
      "display_name": "Python 3"
    },
    "language_info": {
      "name": "python"
    }
  },
  "cells": [
    {
      "cell_type": "markdown",
      "metadata": {
        "id": "view-in-github",
        "colab_type": "text"
      },
      "source": [
        "<a href=\"https://colab.research.google.com/github/schittapuram/Rock-Paper-Scissors-/blob/master/basic_forward_contracts.ipynb\" target=\"_parent\"><img src=\"https://colab.research.google.com/assets/colab-badge.svg\" alt=\"Open In Colab\"/></a>"
      ]
    },
    {
      "cell_type": "code",
      "execution_count": 15,
      "metadata": {
        "colab": {
          "base_uri": "https://localhost:8080/"
        },
        "id": "Zxj9A8TBRZmW",
        "outputId": "1a26af75-77c9-49f9-b4b4-44449b9bb2e5"
      },
      "outputs": [
        {
          "output_type": "stream",
          "name": "stdout",
          "text": [
            "What is your asset position? 1 for long, 0 for short: 1.2\n",
            "Try again, 1 for long, 0 for short: 1.00\n",
            "Price of forward contract in USD: 100.25\n",
            "Spot price of asset in USD: 120.74\n",
            "You incurred a profit of $20.49.\n"
          ]
        }
      ],
      "source": [
        "# Domestic Forward Contract P&L at Maturity Date\n",
        "position = float(input(\"What is your asset position? 1 for long, 0 for short: \"))\n",
        "while (position != 1 and position != 0):\n",
        "  position = float(input(\"Try again, 1 for long, 0 for short: \"))\n",
        "  if (position == 1 or position == 0):\n",
        "    break\n",
        "\n",
        "forward_price = float(input(\"Price of forward contract in USD: \"))\n",
        "spot_price = float(input(\"Spot price of asset in USD: \"))\n",
        "spot_minus_forward = spot_price - forward_price\n",
        "forward_minus_spot = forward_price - spot_price\n",
        "\n",
        "if (position == 1):\n",
        "    if (spot_price > forward_price):\n",
        "        print(\"You incurred a profit of $\" +\n",
        "              str(format(abs(spot_minus_forward), \".2f\")) + \".\")\n",
        "    elif (spot_price < forward_price):\n",
        "        print(\"You lost $\" + str(format(abs(forward_minus_spot), \".2f\")) + \".\")\n",
        "    else:\n",
        "        print(\"No profit or loss.\")\n",
        "else :\n",
        "    if (spot_price > forward_price):\n",
        "        print(\"You lost $\" + str(format(abs(spot_minus_forward), \".2f\")) + \".\")\n",
        "    elif (spot_price < forward_price):\n",
        "        print(\"You incurred a profit of $\" +\n",
        "              str(format(abs(forward_minus_spot), \".2f\")) + \".\")\n",
        "    else:\n",
        "        print(\"No profit or loss.\")"
      ]
    }
  ]
}